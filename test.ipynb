{
 "cells": [
  {
   "cell_type": "code",
   "execution_count": null,
   "metadata": {},
   "outputs": [],
   "source": [
    "%load_ext memory_profiler\n",
    "%memit\n",
    "import pandas as pd\n",
    "import numpy as np\n",
    "\n",
    "\n",
    "data = np.zeros((100000, 5))\n",
    "data = pd.DataFrame(data, columns=['col%d'%i for i in range(data.shape[1])])\n",
    "data.to_parquet('tmp.parquet')\n",
    "\n",
    "data = np.zeros((100000, 5))\n",
    "data = pd.DataFrame(data, columns=['col%d'%i for i in range(data.shape[1])])\n",
    "data.to_csv('tmp.csv', index=False)"
   ]
  },
  {
   "cell_type": "code",
   "execution_count": null,
   "metadata": {},
   "outputs": [],
   "source": [
    "%memit\n",
    "from dask import dataframe as DF\n",
    "\n",
    "df = DF.read_parquet('tmp.parquet')\n",
    "df = df.repartition(partition_size=\"100KB\")\n",
    "# part_path = ['tmpcsv/part.{}'.format(i) for i in range(df.npartitions)]\n",
    "\n",
    "def name_fn(i):\n",
    "    return 'mypart.{}'.format(i)\n",
    "\n",
    "df.to_parquet(path='tmpparquet', write_metadata_file=False, name_function=name_fn)"
   ]
  },
  {
   "cell_type": "code",
   "execution_count": null,
   "metadata": {},
   "outputs": [],
   "source": [
    "data = DF.read_parquet('./tmpp/part.0.parquet')\n",
    "data = data.compute()\n",
    "import sys\n",
    "sys.getsizeof(data)\n",
    "print(data.shape)\n",
    "data"
   ]
  },
  {
   "cell_type": "code",
   "execution_count": null,
   "metadata": {},
   "outputs": [],
   "source": [
    "%memit\n",
    "from dask import dataframe as DF\n",
    "\n",
    "df = DF.read_csv('tmp.csv')\n",
    "df = df.repartition(partition_size=\"100KB\")\n",
    "part_path = ['tmpcsv/part.{}'.format(i) for i in range(df.npartitions)]\n",
    "df.to_csv(part_path, index=False)"
   ]
  },
  {
   "cell_type": "code",
   "execution_count": null,
   "metadata": {},
   "outputs": [],
   "source": [
    "%memit\n",
    "import pickle\n",
    "\n",
    "for part in df.partitions:\n",
    "    tmp = pickle.dumps(part.compute())\n",
    "    print(tmp)\n",
    "    break"
   ]
  },
  {
   "cell_type": "code",
   "execution_count": null,
   "metadata": {},
   "outputs": [],
   "source": []
  },
  {
   "cell_type": "code",
   "execution_count": 24,
   "metadata": {},
   "outputs": [],
   "source": [
    "import logging\n",
    "import boto3\n",
    "from botocore.exceptions import ClientError\n",
    "\n",
    "import pickle\n",
    "\n",
    "def create_bucket(bucket_name, region=None):\n",
    "    \"\"\"Create an S3 bucket in a specified region\n",
    "\n",
    "    If a region is not specified, the bucket is created in the S3 default\n",
    "    region (us-east-1).\n",
    "\n",
    "    :param bucket_name: Bucket to create\n",
    "    :param region: String region to create bucket in, e.g., 'us-west-2'\n",
    "    :return: True if bucket created, else False\n",
    "    \"\"\"\n",
    "\n",
    "    # Create bucket\n",
    "    try:\n",
    "        if region is None:\n",
    "            s3_client = boto3.client('s3')\n",
    "            s3_client.create_bucket(Bucket=bucket_name)\n",
    "        else:\n",
    "            s3_client = boto3.client('s3', region_name=region)\n",
    "            location = {'LocationConstraint': region}\n",
    "            s3_client.create_bucket(Bucket=bucket_name,\n",
    "                                    CreateBucketConfiguration=location)\n",
    "    except ClientError as e:\n",
    "        logging.error(e)\n",
    "        return False\n",
    "    return True"
   ]
  },
  {
   "cell_type": "code",
   "execution_count": 25,
   "metadata": {},
   "outputs": [
    {
     "data": {
      "text/plain": [
       "True"
      ]
     },
     "execution_count": 25,
     "metadata": {},
     "output_type": "execute_result"
    }
   ],
   "source": [
    "bucket = 'vuzhuangwei'\n",
    "create_bucket(bucket)"
   ]
  },
  {
   "cell_type": "code",
   "execution_count": 26,
   "metadata": {},
   "outputs": [
    {
     "data": {
      "text/plain": [
       "{'ResponseMetadata': {'RequestId': 'M8HT4JWTRB2JB45W',\n",
       "  'HostId': 'cdKfim5p/ws6ySQHqc9tbZnYnzjWwa8GoyBCol86a9SfVDdktsB8ZmMp8GQTzFuuBqHWMK4BIsU=',\n",
       "  'HTTPStatusCode': 200,\n",
       "  'HTTPHeaders': {'x-amz-id-2': 'cdKfim5p/ws6ySQHqc9tbZnYnzjWwa8GoyBCol86a9SfVDdktsB8ZmMp8GQTzFuuBqHWMK4BIsU=',\n",
       "   'x-amz-request-id': 'M8HT4JWTRB2JB45W',\n",
       "   'date': 'Fri, 12 Aug 2022 18:48:33 GMT',\n",
       "   'etag': '\"9c0265f933cf1a0651f15854d2009a45\"',\n",
       "   'server': 'AmazonS3',\n",
       "   'content-length': '0'},\n",
       "  'RetryAttempts': 0},\n",
       " 'ETag': '\"9c0265f933cf1a0651f15854d2009a45\"'}"
      ]
     },
     "execution_count": 26,
     "metadata": {},
     "output_type": "execute_result"
    }
   ],
   "source": [
    "client = boto3.client('s3')\n",
    "key = 'README.md'\n",
    "with open(key, 'r') as f:\n",
    "    val = f.readlines()\n",
    "    val = pickle.dumps(val)\n",
    "client.put_object(Bucket=bucket, Key=key, Body=val)"
   ]
  },
  {
   "cell_type": "code",
   "execution_count": 30,
   "metadata": {},
   "outputs": [
    {
     "data": {
      "text/plain": [
       "b'\\x80\\x04\\x95\\x14\\x00\\x00\\x00\\x00\\x00\\x00\\x00]\\x94\\x8c\\r# FS-KV-Store\\x94a.'"
      ]
     },
     "execution_count": 30,
     "metadata": {},
     "output_type": "execute_result"
    }
   ],
   "source": [
    "meta = client.get_object(Bucket=bucket, Key=key)\n",
    "data = meta['Body'].read()\n",
    "data"
   ]
  }
 ],
 "metadata": {
  "interpreter": {
   "hash": "916dbcbb3f70747c44a77c7bcd40155683ae19c65e1c03b4aa3499c5328201f1"
  },
  "kernelspec": {
   "display_name": "Python 3.8.10 64-bit",
   "language": "python",
   "name": "python3"
  },
  "language_info": {
   "codemirror_mode": {
    "name": "ipython",
    "version": 3
   },
   "file_extension": ".py",
   "mimetype": "text/x-python",
   "name": "python",
   "nbconvert_exporter": "python",
   "pygments_lexer": "ipython3",
   "version": "3.8.10"
  },
  "orig_nbformat": 4
 },
 "nbformat": 4,
 "nbformat_minor": 2
}
