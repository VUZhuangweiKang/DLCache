{
 "cells": [
  {
   "cell_type": "code",
   "execution_count": null,
   "metadata": {},
   "outputs": [],
   "source": [
    "import os\n",
    "from PIL import Image\n",
    "import numpy as np\n",
    "import pandas as pd\n",
    "import glob"
   ]
  },
  {
   "cell_type": "code",
   "execution_count": null,
   "metadata": {},
   "outputs": [],
   "source": [
    "!wget https://www.cs.toronto.edu/~kriz/cifar-10-python.tar.gz\n",
    "!tar -xzvf cifar-10-python.tar.gz"
   ]
  },
  {
   "cell_type": "code",
   "execution_count": null,
   "metadata": {},
   "outputs": [],
   "source": [
    "ROOT_PATH = './cifar-10-batches-py'\n",
    "TO_ROOT = 'CIFAR10'\n",
    "\n",
    "def unpickle(file):\n",
    "    import pickle\n",
    "    with open(file, 'rb') as fo:\n",
    "        dict  =  pickle.load(fo, encoding = 'latin1')\n",
    "    return dict"
   ]
  },
  {
   "cell_type": "code",
   "execution_count": null,
   "metadata": {},
   "outputs": [],
   "source": [
    "# os.mkdir(TO_ROOT)\n",
    "# os.mkdir(os.path.join(TO_ROOT,'train'))\n",
    "# os.mkdir(os.path.join(TO_ROOT,'test'))"
   ]
  },
  {
   "cell_type": "code",
   "execution_count": null,
   "metadata": {},
   "outputs": [],
   "source": [
    "meta = unpickle(os.path.join(ROOT_PATH,'batches.meta'))"
   ]
  },
  {
   "cell_type": "code",
   "execution_count": null,
   "metadata": {},
   "outputs": [],
   "source": [
    "def toimage(batch_dict, train=False):\n",
    "    data  =  np.array(batch_dict['data']).reshape(-1, 3, 32, 32).transpose(0, 2, 3, 1)\n",
    "    manifest = []\n",
    "    for i in range(data.shape[0]):\n",
    "        img  =  Image.fromarray(data[i])\n",
    "        path = os.path.join(TO_ROOT, 'train' if train else 'test', 'samples', meta['label_names'][batch_dict['labels'][i]])\n",
    "        if not os.path.exists(path):\n",
    "            os.system('mkdir -p {}'.format(path))\n",
    "        s3_key = os.path.join(path, batch_dict['filenames'][i])\n",
    "        img.save(s3_key)\n",
    "        manifest.append([s3_key, meta['label_names'][batch_dict['labels'][i]]])\n",
    "    return manifest"
   ]
  },
  {
   "cell_type": "code",
   "execution_count": null,
   "metadata": {},
   "outputs": [],
   "source": [
    "manifest = []\n",
    "\n",
    "for f in glob.glob(\"{}/data_batch_*\".format(ROOT_PATH)):\n",
    "    train_dict = unpickle(f)\n",
    "    manifest.extend(toimage(train_dict, train=True))\n",
    "\n",
    "manifest = pd.DataFrame(manifest, columns=['sample', 'target'])\n",
    "manifest.to_csv( os.path.join(TO_ROOT, 'train/manifest.csv'), index=False)"
   ]
  },
  {
   "cell_type": "code",
   "execution_count": null,
   "metadata": {},
   "outputs": [],
   "source": [
    "manifest = []\n",
    "test_dict = unpickle(os.path.join(ROOT_PATH,'test_batch'))\n",
    "manifest.extend(toimage(test_dict, train=False))\n",
    "manifest = pd.DataFrame(manifest, columns=['sample', 'target'])\n",
    "manifest.to_csv( os.path.join(TO_ROOT, 'test/manifest.csv'), index=False)"
   ]
  },
  {
   "cell_type": "code",
   "execution_count": null,
   "metadata": {},
   "outputs": [],
   "source": [
    "import boto3\n",
    "import glob\n",
    "\n",
    "session = boto3.Session()\n",
    "s3 = session.client(\"s3\")\n",
    "bucket = 'vuzhuangwei'\n",
    "\n",
    "for root,dirs,files in os.walk('CIFAR10/'):\n",
    "    for file in files:\n",
    "        path = os.path.join(root,file)\n",
    "        s3.upload_file(path, bucket, path)"
   ]
  }
 ],
 "metadata": {
  "kernelspec": {
   "display_name": "Python 3.6.5 64-bit",
   "language": "python",
   "name": "python3"
  },
  "language_info": {
   "codemirror_mode": {
    "name": "ipython",
    "version": 3
   },
   "file_extension": ".py",
   "mimetype": "text/x-python",
   "name": "python",
   "nbconvert_exporter": "python",
   "pygments_lexer": "ipython3",
   "version": "3.6.5"
  },
  "orig_nbformat": 4,
  "vscode": {
   "interpreter": {
    "hash": "aee8b7b246df8f9039afb4144a1f6fd8d2ca17a180786b69acc140d282b71a49"
   }
  }
 },
 "nbformat": 4,
 "nbformat_minor": 2
}
