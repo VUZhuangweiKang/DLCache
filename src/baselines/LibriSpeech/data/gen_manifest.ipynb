{
 "cells": [
  {
   "cell_type": "code",
   "execution_count": 40,
   "metadata": {},
   "outputs": [],
   "source": [
    "import numpy as np\n",
    "import pickle\n",
    "import json\n",
    "\n",
    "with open('./train_samples_manifests.pkl', 'rb') as f:\n",
    "    sample_manifests = pickle.load(f)\n",
    "    \n",
    "with open('./train_targets_manifests.pkl', 'rb') as f:\n",
    "    target_manifests = pickle.load(f)\n",
    "\n",
    "assert len(sample_manifests) == len(target_manifests)"
   ]
  },
  {
   "cell_type": "code",
   "execution_count": 41,
   "metadata": {},
   "outputs": [],
   "source": [
    "sample_manifests_items = list(sample_manifests.items())\n",
    "sample_manifests_items.sort(key=lambda item: item[0].split('/')[-1])\n",
    "target_manifests_items = list(target_manifests.items())\n",
    "target_manifests_items.sort(key=lambda item: item[0].split('/')[-1])"
   ]
  },
  {
   "cell_type": "code",
   "execution_count": 42,
   "metadata": {},
   "outputs": [],
   "source": [
    "samples = []\n",
    "\n",
    "for i in range(len(sample_manifests_items)):\n",
    "    sample_key = '/'.join(sample_manifests_items[i][1].split('/')[3:])\n",
    "    target_key = '/'.join(target_manifests_items[i][1].split('/')[3:])\n",
    "    samples.append({'wav_path': sample_key, 'transcript_path': target_key})"
   ]
  },
  {
   "cell_type": "code",
   "execution_count": 43,
   "metadata": {},
   "outputs": [],
   "source": [
    "libri_train_manifest = {\"root_path\": '/nfs_storage', 'samples': samples}\n",
    "with open('libri_train_manifest.json', 'w') as f:\n",
    "    json.dump(libri_train_manifest, f)"
   ]
  }
 ],
 "metadata": {
  "kernelspec": {
   "display_name": "Python 3",
   "language": "python",
   "name": "python3"
  },
  "language_info": {
   "codemirror_mode": {
    "name": "ipython",
    "version": 3
   },
   "file_extension": ".py",
   "mimetype": "text/x-python",
   "name": "python",
   "nbconvert_exporter": "python",
   "pygments_lexer": "ipython3",
   "version": "3.8.10"
  },
  "orig_nbformat": 4,
  "vscode": {
   "interpreter": {
    "hash": "31f2aee4e71d21fbe5cf8b01ff0e069b9275f58929596ceb00d14d90e3e16cd6"
   }
  }
 },
 "nbformat": 4,
 "nbformat_minor": 2
}
