{
 "cells": [
  {
   "cell_type": "code",
   "execution_count": 5,
   "metadata": {},
   "outputs": [
    {
     "name": "stdout",
     "output_type": "stream",
     "text": [
      "ILSVRC/train/samples/6.tar.gz/n02860847_23188.JPEG /runtime/129.59.234.237/adac7067ac8098d85900390165ad1c20-592/n02860847_23188.JPEG\n"
     ]
    }
   ],
   "source": [
    "import pandas as pd\n",
    "import numpy as np\n",
    "import json\n",
    "\n",
    "with open('./train_samples_manifests.json') as f:\n",
    "    data = json.load(f)"
   ]
  },
  {
   "cell_type": "code",
   "execution_count": 24,
   "metadata": {},
   "outputs": [],
   "source": [
    "df = []\n",
    "for key in data:\n",
    "    sample = data[key]\n",
    "    sample = sample.split('/')\n",
    "    target = sample[-1].split('_')[0]\n",
    "    sample = '/' + '/'.join(sample[2:])\n",
    "    df.append([sample, target])\n",
    "\n",
    "df = pd.DataFrame(df, columns=['sample', 'target'])\n",
    "df.to_csv('manifest.csv', index=False)"
   ]
  }
 ],
 "metadata": {
  "kernelspec": {
   "display_name": "Python 3",
   "language": "python",
   "name": "python3"
  },
  "language_info": {
   "codemirror_mode": {
    "name": "ipython",
    "version": 3
   },
   "file_extension": ".py",
   "mimetype": "text/x-python",
   "name": "python",
   "nbconvert_exporter": "python",
   "pygments_lexer": "ipython3",
   "version": "3.6.5 (default, Aug 14 2022, 18:16:32) \n[GCC 5.4.0 20160609]"
  },
  "orig_nbformat": 4,
  "vscode": {
   "interpreter": {
    "hash": "aee8b7b246df8f9039afb4144a1f6fd8d2ca17a180786b69acc140d282b71a49"
   }
  }
 },
 "nbformat": 4,
 "nbformat_minor": 2
}
