{
 "cells": [
  {
   "cell_type": "code",
   "execution_count": 5,
   "metadata": {},
   "outputs": [],
   "source": [
    "# generate experiment plan\n",
    "\n",
    "exps = []\n",
    "read_size = [4, 8, 16, 32, 64, 128]\n",
    "for rs in read_size:\n",
    "    for ef in [True, False]:\n",
    "        plan = {\n",
    "            \"read_size\": rs,\n",
    "            \"dataset\": '/hdd/imagenet/*/*/*.JPEG',\n",
    "            \"use_cache\": False,\n",
    "            \"enable_fscache\": ef\n",
    "        }    \n",
    "        exps.append(plan)"
   ]
  },
  {
   "cell_type": "code",
   "execution_count": 6,
   "metadata": {},
   "outputs": [],
   "source": [
    "for rs in read_size:\n",
    "    plan = {\n",
    "        \"read_size\": rs,\n",
    "        \"dataset\": '/runtime/imagenet/*/*/*.JPEG',\n",
    "        \"use_cache\": True,\n",
    "        \"enable_fscache\": True\n",
    "    }\n",
    "    exps.append(plan)"
   ]
  },
  {
   "cell_type": "code",
   "execution_count": 7,
   "metadata": {},
   "outputs": [],
   "source": [
    "for rs in read_size:\n",
    "    plan = {\n",
    "        \"read_size\": rs,\n",
    "        \"dataset\": 'imagenet/',\n",
    "        \"use_cache\": True,\n",
    "        \"enable_fscache\": True\n",
    "    }\n",
    "    exps.append(plan)"
   ]
  },
  {
   "cell_type": "code",
   "execution_count": 9,
   "metadata": {},
   "outputs": [],
   "source": [
    "import json\n",
    "with open('configs.json', 'w') as f:\n",
    "    json.dump(exps, f, sort_keys=True, indent=4)"
   ]
  }
 ],
 "metadata": {
  "kernelspec": {
   "display_name": "Python 3.6.5 64-bit",
   "language": "python",
   "name": "python3"
  },
  "language_info": {
   "codemirror_mode": {
    "name": "ipython",
    "version": 3
   },
   "file_extension": ".py",
   "mimetype": "text/x-python",
   "name": "python",
   "nbconvert_exporter": "python",
   "pygments_lexer": "ipython3",
   "version": "3.6.5"
  },
  "orig_nbformat": 4,
  "vscode": {
   "interpreter": {
    "hash": "aee8b7b246df8f9039afb4144a1f6fd8d2ca17a180786b69acc140d282b71a49"
   }
  }
 },
 "nbformat": 4,
 "nbformat_minor": 2
}
